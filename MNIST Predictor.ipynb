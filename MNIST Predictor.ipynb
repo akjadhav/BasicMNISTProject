{
 "cells": [
  {
   "cell_type": "code",
   "execution_count": 1,
   "metadata": {
    "colab": {},
    "colab_type": "code",
    "id": "kuDtNXua5k5e"
   },
   "outputs": [
    {
     "name": "stderr",
     "output_type": "stream",
     "text": [
      "Using TensorFlow backend.\n"
     ]
    }
   ],
   "source": [
    "from keras.models import load_model\n",
    "from keras.preprocessing import image\n",
    "import numpy as np\n",
    "from os import listdir\n",
    "from PIL import Image\n",
    "import matplotlib.pyplot as plt\n",
    "%matplotlib inline"
   ]
  },
  {
   "cell_type": "code",
   "execution_count": 2,
   "metadata": {},
   "outputs": [],
   "source": [
    "def preprocess(photo_path):\n",
    "    img = Image.open(photo_path)\n",
    "    img = img.resize((28, 28))\n",
    "    img = img.convert('L')\n",
    "    img = np.asarray(img, dtype=\"int32\")\n",
    "    plt.imshow(img, cmap = 'gray')\n",
    "    img = img.reshape(-1, 28, 28, 1) / 255\n",
    "    \n",
    "    return img"
   ]
  },
  {
   "cell_type": "code",
   "execution_count": 10,
   "metadata": {
    "colab": {
     "base_uri": "https://localhost:8080/",
     "height": 491
    },
    "colab_type": "code",
    "executionInfo": {
     "elapsed": 561,
     "status": "error",
     "timestamp": 1560967656809,
     "user": {
      "displayName": "Ameya Jadhav",
      "photoUrl": "https://lh4.googleusercontent.com/-MF0vc3KZDSM/AAAAAAAAAAI/AAAAAAAAIwk/jnT2dDFduJQ/s64/photo.jpg",
      "userId": "17343726041562330088"
     },
     "user_tz": 240
    },
    "id": "BGvvux2a5boQ",
    "outputId": "d35c4418-d1a4-4934-c105-def81c931244"
   },
   "outputs": [
    {
     "name": "stdout",
     "output_type": "stream",
     "text": [
      "Model Predicted: 2\n"
     ]
    },
    {
     "data": {
      "image/png": "[encoded data removed]",
      "text/plain": [
       "<Figure size 432x288 with 1 Axes>"
      ]
     },
     "metadata": {
      "needs_background": "light"
     },
     "output_type": "display_data"
    }
   ],
   "source": [
    "model = load_model(r'BasicMNISTModel.h5')\n",
    "\n",
    "photo_path = r'Prediction Data\\two.jpeg'\n",
    "image = preprocess(photo_path)\n",
    "\n",
    "print('Model Predicted:' , int(model.predict_classes(image)))"
   ]
  }
 ],
 "metadata": {
  "colab": {
   "collapsed_sections": [],
   "name": "MNIST Predictor.ipynb",
   "provenance": [],
   "version": "0.3.2"
  },
  "kernelspec": {
   "display_name": "Python 3",
   "language": "python",
   "name": "python3"
  },
  "language_info": {
   "codemirror_mode": {
    "name": "ipython",
    "version": 3
   },
   "file_extension": ".py",
   "mimetype": "text/x-python",
   "name": "python",
   "nbconvert_exporter": "python",
   "pygments_lexer": "ipython3",
   "version": "3.6.7"
  }
 },
 "nbformat": 4,
 "nbformat_minor": 1
}
