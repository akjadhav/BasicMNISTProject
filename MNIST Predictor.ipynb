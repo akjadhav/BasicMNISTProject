{
 "cells": [
  {
   "cell_type": "markdown",
   "metadata": {
    "colab_type": "text",
    "id": "YYRBPKaTUIiW"
   },
   "source": [
    "# **Importing Libraries**"
   ]
  },
  {
   "cell_type": "code",
   "execution_count": 1,
   "metadata": {
    "colab": {
     "base_uri": "https://localhost:8080/",
     "height": 34
    },
    "colab_type": "code",
    "executionInfo": {
     "elapsed": 1761,
     "status": "ok",
     "timestamp": 1561144503233,
     "user": {
      "displayName": "Ameya Jadhav",
      "photoUrl": "https://lh4.googleusercontent.com/-MF0vc3KZDSM/AAAAAAAAAAI/AAAAAAAAIwk/jnT2dDFduJQ/s64/photo.jpg",
      "userId": "17343726041562330088"
     },
     "user_tz": 240
    },
    "id": "kuDtNXua5k5e",
    "outputId": "045e2f58-5768-429a-ca18-37f20b257d53"
   },
   "outputs": [
    {
     "name": "stderr",
     "output_type": "stream",
     "text": [
      "Using TensorFlow backend.\n"
     ]
    }
   ],
   "source": [
    "from keras.models import load_model\n",
    "from keras.preprocessing import image\n",
    "import numpy as np\n",
    "from os import listdir\n",
    "from PIL import Image\n",
    "import matplotlib.pyplot as plt\n",
    "%matplotlib inline"
   ]
  },
  {
   "cell_type": "markdown",
   "metadata": {
    "colab_type": "text",
    "id": "luvBcpT2UO3j"
   },
   "source": [
    "# **Preprocessing Code to Make Prediction Images Model Compatible**"
   ]
  },
  {
   "cell_type": "code",
   "execution_count": 2,
   "metadata": {
    "colab": {},
    "colab_type": "code",
    "id": "jjsEHSPcUADF"
   },
   "outputs": [],
   "source": [
    "def preprocess(photo_path):\n",
    "    img = Image.open(photo_path)\n",
    "    img = img.resize((28, 28))\n",
    "    img = img.convert('L')\n",
    "    img = np.asarray(img, dtype=\"int32\")\n",
    "    fig = plt.imshow(img, cmap = 'gray')\n",
    "    fig.axes.get_xaxis().set_visible(False)\n",
    "    fig.axes.get_yaxis().set_visible(False)\n",
    "    img = img.reshape(-1, 28, 28, 1) / 255\n",
    "    \n",
    "    return img"
   ]
  },
  {
   "cell_type": "markdown",
   "metadata": {
    "colab_type": "text",
    "id": "9bvC5TDaaoOx"
   },
   "source": [
    "# Predicting Classes from the **Model**"
   ]
  },
  {
   "cell_type": "code",
   "execution_count": 4,
   "metadata": {
    "colab": {
     "base_uri": "https://localhost:8080/",
     "height": 476
    },
    "colab_type": "code",
    "executionInfo": {
     "elapsed": 548,
     "status": "error",
     "timestamp": 1561144507426,
     "user": {
      "displayName": "Ameya Jadhav",
      "photoUrl": "https://lh4.googleusercontent.com/-MF0vc3KZDSM/AAAAAAAAAAI/AAAAAAAAIwk/jnT2dDFduJQ/s64/photo.jpg",
      "userId": "17343726041562330088"
     },
     "user_tz": 240
    },
    "id": "BGvvux2a5boQ",
    "outputId": "a3778837-5819-46ad-c064-75d282d085e5"
   },
   "outputs": [
    {
     "name": "stdout",
     "output_type": "stream",
     "text": [
      "Model Predicted: 5\n"
     ]
    },
    {
     "data": {
      "image/png": "[encoded data removed]",
      "text/plain": [
       "<Figure size 432x288 with 1 Axes>"
      ]
     },
     "metadata": {},
     "output_type": "display_data"
    }
   ],
   "source": [
    "model = load_model(r'BasicMNISTModel.h5')\n",
    "\n",
    "photo_path = r'Prediction Data\\5.png' # file path of the image that is going to be predicted\n",
    "image = preprocess(photo_path)\n",
    "\n",
    "print('Model Predicted:' , int(model.predict_classes(image)))"
   ]
  }
 ],
 "metadata": {
  "colab": {
   "collapsed_sections": [],
   "name": "MNIST Predictor.ipynb",
   "provenance": [],
   "version": "0.3.2"
  },
  "kernelspec": {
   "display_name": "Python 3",
   "language": "python",
   "name": "python3"
  },
  "language_info": {
   "codemirror_mode": {
    "name": "ipython",
    "version": 3
   },
   "file_extension": ".py",
   "mimetype": "text/x-python",
   "name": "python",
   "nbconvert_exporter": "python",
   "pygments_lexer": "ipython3",
   "version": "3.6.7"
  }
 },
 "nbformat": 4,
 "nbformat_minor": 1
}
